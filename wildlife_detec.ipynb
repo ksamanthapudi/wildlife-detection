{
 "cells": [
  {
   "cell_type": "code",
   "execution_count": 1,
   "id": "1b4fb3ca",
   "metadata": {},
   "outputs": [],
   "source": [
    "import tensorflow as tf\n",
    "import numpy as np\n",
    "import cv2\n",
    "import os\n",
    "import matplotlib.pyplot as plt\n",
    "import smtplib\n",
    "from email.mime.text import MIMEText\n",
    "from email.mime.image import MIMEImage\n",
    "from email.mime.multipart import MIMEMultipart\n",
    "from playsound import playsound"
   ]
  },
  {
   "cell_type": "code",
   "execution_count": 7,
   "id": "948ae590",
   "metadata": {},
   "outputs": [
    {
     "name": "stderr",
     "output_type": "stream",
     "text": [
      "The checkpoint state_dict contains keys that are not used by the model:\n",
      "  \u001b[35mproposal_generator.anchor_generator.cell_anchors.{0, 1, 2, 3, 4}\u001b[0m\n",
      "The checkpoint state_dict contains keys that are not used by the model:\n",
      "  \u001b[35mproposal_generator.anchor_generator.cell_anchors.{0, 1, 2, 3, 4}\u001b[0m\n"
     ]
    },
    {
     "name": "stdout",
     "output_type": "stream",
     "text": [
      "Wild animal alert!!!\n",
      "tiger 51.35%\n"
     ]
    },
    {
     "ename": "KeyboardInterrupt",
     "evalue": "",
     "output_type": "error",
     "traceback": [
      "\u001b[1;31m---------------------------------------------------------------------------\u001b[0m",
      "\u001b[1;31mKeyboardInterrupt\u001b[0m                         Traceback (most recent call last)",
      "\u001b[1;32m~\\AppData\\Local\\Temp/ipykernel_11016/2491025702.py\u001b[0m in \u001b[0;36m<module>\u001b[1;34m\u001b[0m\n\u001b[0;32m     77\u001b[0m     ins.segmentImage(filename, show_bboxes=True, extract_segmented_objects=True,\n\u001b[0;32m     78\u001b[0m     save_extracted_objects=True, output_image_name=\"output_image.jpg\" )\n\u001b[1;32m---> 79\u001b[1;33m     \u001b[0mdetection\u001b[0m\u001b[1;33m(\u001b[0m\u001b[1;33m)\u001b[0m\u001b[1;33m\u001b[0m\u001b[1;33m\u001b[0m\u001b[0m\n\u001b[0m\u001b[0;32m     80\u001b[0m     \u001b[1;32mif\u001b[0m \u001b[0mcv2\u001b[0m\u001b[1;33m.\u001b[0m\u001b[0mwaitKey\u001b[0m\u001b[1;33m(\u001b[0m\u001b[1;36m10\u001b[0m\u001b[1;33m)\u001b[0m\u001b[1;33m==\u001b[0m\u001b[1;36m27\u001b[0m\u001b[1;33m:\u001b[0m\u001b[1;33m\u001b[0m\u001b[1;33m\u001b[0m\u001b[0m\n\u001b[0;32m     81\u001b[0m         \u001b[1;32mbreak\u001b[0m\u001b[1;33m\u001b[0m\u001b[1;33m\u001b[0m\u001b[0m\n",
      "\u001b[1;32m~\\AppData\\Local\\Temp/ipykernel_11016/2491025702.py\u001b[0m in \u001b[0;36mdetection\u001b[1;34m()\u001b[0m\n\u001b[0;32m     54\u001b[0m         \u001b[0ma\u001b[0m\u001b[1;33m=\u001b[0m\u001b[0mresults\u001b[0m\u001b[1;33m[\u001b[0m\u001b[1;36m0\u001b[0m\u001b[1;33m]\u001b[0m\u001b[1;33m[\u001b[0m\u001b[1;36m0\u001b[0m\u001b[1;33m]\u001b[0m\u001b[1;33m[\u001b[0m\u001b[1;36m1\u001b[0m\u001b[1;33m]\u001b[0m\u001b[1;33m\u001b[0m\u001b[1;33m\u001b[0m\u001b[0m\n\u001b[0;32m     55\u001b[0m         \u001b[0mb\u001b[0m\u001b[1;33m=\u001b[0m\u001b[0mresults\u001b[0m\u001b[1;33m[\u001b[0m\u001b[1;36m0\u001b[0m\u001b[1;33m]\u001b[0m\u001b[1;33m[\u001b[0m\u001b[1;36m0\u001b[0m\u001b[1;33m]\u001b[0m\u001b[1;33m[\u001b[0m\u001b[1;36m2\u001b[0m\u001b[1;33m]\u001b[0m\u001b[1;33m*\u001b[0m\u001b[1;36m100\u001b[0m\u001b[1;33m\u001b[0m\u001b[1;33m\u001b[0m\u001b[0m\n\u001b[1;32m---> 56\u001b[1;33m         \u001b[0mclassification\u001b[0m\u001b[1;33m(\u001b[0m\u001b[0ma\u001b[0m\u001b[1;33m,\u001b[0m\u001b[0mb\u001b[0m\u001b[1;33m)\u001b[0m\u001b[1;33m\u001b[0m\u001b[1;33m\u001b[0m\u001b[0m\n\u001b[0m\u001b[0;32m     57\u001b[0m         \u001b[0mc\u001b[0m\u001b[1;33m+=\u001b[0m\u001b[1;36m1\u001b[0m\u001b[1;33m\u001b[0m\u001b[1;33m\u001b[0m\u001b[0m\n\u001b[0;32m     58\u001b[0m \u001b[1;33m\u001b[0m\u001b[0m\n",
      "\u001b[1;32m~\\AppData\\Local\\Temp/ipykernel_11016/2491025702.py\u001b[0m in \u001b[0;36mclassification\u001b[1;34m(a, b)\u001b[0m\n\u001b[0;32m     32\u001b[0m             \u001b[0mprint\u001b[0m\u001b[1;33m(\u001b[0m\u001b[0ma\u001b[0m\u001b[1;33m,\u001b[0m\u001b[1;34m\"{:.2f}%\"\u001b[0m\u001b[1;33m.\u001b[0m\u001b[0mformat\u001b[0m\u001b[1;33m(\u001b[0m\u001b[0mb\u001b[0m\u001b[1;33m)\u001b[0m\u001b[1;33m)\u001b[0m\u001b[1;33m\u001b[0m\u001b[1;33m\u001b[0m\u001b[0m\n\u001b[0;32m     33\u001b[0m             \u001b[0maud_file\u001b[0m\u001b[1;33m=\u001b[0m\u001b[1;34m\"C:\\\\Users\\\\Asus\\\\Wildlife detection\\\\alarm1.mp3\"\u001b[0m\u001b[1;33m\u001b[0m\u001b[1;33m\u001b[0m\u001b[0m\n\u001b[1;32m---> 34\u001b[1;33m             \u001b[0mplaysound\u001b[0m\u001b[1;33m(\u001b[0m\u001b[0maud_file\u001b[0m\u001b[1;33m)\u001b[0m\u001b[1;33m\u001b[0m\u001b[1;33m\u001b[0m\u001b[0m\n\u001b[0m\u001b[0;32m     35\u001b[0m \u001b[1;33m\u001b[0m\u001b[0m\n\u001b[0;32m     36\u001b[0m \u001b[1;32mdef\u001b[0m \u001b[0mdetection\u001b[0m\u001b[1;33m(\u001b[0m\u001b[1;33m)\u001b[0m\u001b[1;33m:\u001b[0m\u001b[1;33m\u001b[0m\u001b[1;33m\u001b[0m\u001b[0m\n",
      "\u001b[1;32m~\\anaconda3\\lib\\site-packages\\playsound.py\u001b[0m in \u001b[0;36m_playsoundWin\u001b[1;34m(sound, block)\u001b[0m\n\u001b[0;32m     39\u001b[0m \u001b[1;33m\u001b[0m\u001b[0m\n\u001b[0;32m     40\u001b[0m     \u001b[1;32mif\u001b[0m \u001b[0mblock\u001b[0m\u001b[1;33m:\u001b[0m\u001b[1;33m\u001b[0m\u001b[1;33m\u001b[0m\u001b[0m\n\u001b[1;32m---> 41\u001b[1;33m         \u001b[0msleep\u001b[0m\u001b[1;33m(\u001b[0m\u001b[0mfloat\u001b[0m\u001b[1;33m(\u001b[0m\u001b[0mdurationInMS\u001b[0m\u001b[1;33m)\u001b[0m \u001b[1;33m/\u001b[0m \u001b[1;36m1000.0\u001b[0m\u001b[1;33m)\u001b[0m\u001b[1;33m\u001b[0m\u001b[1;33m\u001b[0m\u001b[0m\n\u001b[0m\u001b[0;32m     42\u001b[0m \u001b[1;33m\u001b[0m\u001b[0m\n\u001b[0;32m     43\u001b[0m \u001b[1;32mdef\u001b[0m \u001b[0m_playsoundOSX\u001b[0m\u001b[1;33m(\u001b[0m\u001b[0msound\u001b[0m\u001b[1;33m,\u001b[0m \u001b[0mblock\u001b[0m \u001b[1;33m=\u001b[0m \u001b[1;32mTrue\u001b[0m\u001b[1;33m)\u001b[0m\u001b[1;33m:\u001b[0m\u001b[1;33m\u001b[0m\u001b[1;33m\u001b[0m\u001b[0m\n",
      "\u001b[1;31mKeyboardInterrupt\u001b[0m: "
     ]
    }
   ],
   "source": [
    "def notif(a,b):\n",
    "    ImgFileName=\"output_image.jpg\"\n",
    "    with open(ImgFileName, 'rb') as f:\n",
    "        img_data = f.read()\n",
    "\n",
    "    msg = MIMEMultipart()\n",
    "    msg['Subject'] = 'ALERT!'\n",
    "    msg['From'] = 'mohamedfazith510@gmail.com'\n",
    "    msg['To'] = 'wilddetec@gmail.com'\n",
    "    text = MIMEText(\"Wild Animal Detected :\\nType : \"+a+\"\\nPercentage :\"+b[0:5]+\"%\")\n",
    "    msg.attach(text)\n",
    "    image = MIMEImage(img_data, name=os.path.basename(ImgFileName))\n",
    "    msg.attach(image)\n",
    "    s = smtplib.SMTP('smtp.gmail.com', 587)\n",
    "    s.ehlo()\n",
    "    s.starttls()\n",
    "    s.ehlo()\n",
    "    s.login('mohamedfazith510@gmail.com','Mdfazith@01')\n",
    "    s.sendmail('mohamedfazith510@gmail.com','wilddetec@gmail.com', msg.as_string())\n",
    "    s.quit()\n",
    "\n",
    "def classification(a,b):\n",
    "    file = open(\"animals.txt\", \"r\")\n",
    "    line=file.read()\n",
    "    if (a in line):\n",
    "#     animal=[\"lion\",\"tiger\",\"cheetah\",\"timber wolf\", \"grey wolf\", \"gray wolf\"]\n",
    "#     if(a in animal):\n",
    "        if(b>40):\n",
    "            c=str(b)\n",
    "            notif(a,c)\n",
    "            print(\"Wild animal alert!!!\")\n",
    "            print(a,\"{:.2f}%\".format(b))\n",
    "            aud_file=\"C:\\\\Users\\\\Asus\\\\Wildlife detection\\\\alarm1.mp3\"\n",
    "            playsound(aud_file)\n",
    "\n",
    "def detection():    \n",
    "    file='segmented_object_1.jpg'\n",
    "    c=1\n",
    "    while(os.path.exists('segmented_object_'+str(c)+'.jpg')):\n",
    "        file='segmented_object_'+str(c)+'.jpg'\n",
    "        import cv2 \n",
    "        imgg=cv2.imread(file)\n",
    "        imgg=cv2.resize(imgg,(224,224))   \n",
    "#     plt.imshow(cv2.cvtColor(imgg,cv2.COLOR_BGR2RGB))\n",
    "        from tensorflow.keras.preprocessing import image\n",
    "        mobile=tf.keras.applications.mobilenet_v2.MobileNetV2()\n",
    "        resized_img= image.img_to_array(imgg)\n",
    "        final_image= np.expand_dims(resized_img,axis=0)\n",
    "        final_image=tf.keras.applications.mobilenet.preprocess_input(final_image)\n",
    "        from tensorflow.keras.applications import imagenet_utils\n",
    "        predictions=mobile.predict(final_image)\n",
    "        results= imagenet_utils.decode_predictions(predictions)\n",
    "        #print(results)\n",
    "        a=results[0][0][1]\n",
    "        b=results[0][0][2]*100\n",
    "        classification(a,b)\n",
    "        c+=1\n",
    "    \n",
    "cam=cv2.VideoCapture(\"tiger_video_2.mp4\")\n",
    "#namedWindow(\"camera\")\n",
    "global count\n",
    "count =0\n",
    "    \n",
    "while True:\n",
    "    \n",
    "    ret, frame = cam.read()\n",
    "    if not ret:\n",
    "        break\n",
    "#     cv2.imshow(\"camera\",frame)\n",
    "    cv2.imwrite('./frames/'+str(count)+'.jpg',frame)\n",
    "    \n",
    "    import pixellib\n",
    "    from pixellib.torchbackend.instance import instanceSegmentation\n",
    "    ins = instanceSegmentation()\n",
    "    ins.load_model(\"pointrend_resnet50.pkl\")\n",
    "    filename='frames/'+str(count)+'.jpg'\n",
    "    ins.segmentImage(filename, show_bboxes=True, extract_segmented_objects=True,\n",
    "    save_extracted_objects=True, output_image_name=\"output_image.jpg\" )\n",
    "    detection()\n",
    "    if cv2.waitKey(10)==27:\n",
    "        break\n",
    "    \n",
    "    count+=1\n",
    "           \n",
    "cam.release()\n",
    "cv2.destroyAllWindows()"
   ]
  }
 ],
 "metadata": {
  "kernelspec": {
   "display_name": "Python 3 (ipykernel)",
   "language": "python",
   "name": "python3"
  },
  "language_info": {
   "codemirror_mode": {
    "name": "ipython",
    "version": 3
   },
   "file_extension": ".py",
   "mimetype": "text/x-python",
   "name": "python",
   "nbconvert_exporter": "python",
   "pygments_lexer": "ipython3",
   "version": "3.9.7"
  }
 },
 "nbformat": 4,
 "nbformat_minor": 5
}
